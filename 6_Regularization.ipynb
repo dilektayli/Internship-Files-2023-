{
  "nbformat": 4,
  "nbformat_minor": 0,
  "metadata": {
    "colab": {
      "provenance": [],
      "authorship_tag": "ABX9TyPhuw06nwUzDmnuwSieFrJy",
      "include_colab_link": true
    },
    "kernelspec": {
      "name": "python3",
      "display_name": "Python 3"
    },
    "language_info": {
      "name": "python"
    }
  },
  "cells": [
    {
      "cell_type": "markdown",
      "metadata": {
        "id": "view-in-github",
        "colab_type": "text"
      },
      "source": [
        "<a href=\"https://colab.research.google.com/github/kdxxx/Internship-Files-2023-/blob/main/6_Regularization.ipynb\" target=\"_parent\"><img src=\"https://colab.research.google.com/assets/colab-badge.svg\" alt=\"Open In Colab\"/></a>"
      ]
    },
    {
      "cell_type": "code",
      "execution_count": 6,
      "metadata": {
        "id": "uv-ETQAZEQWL"
      },
      "outputs": [],
      "source": [
        "import pandas as pd\n",
        "from sklearn.linear_model import LinearRegression\n",
        "from sklearn.linear_model import Ridge\n",
        "from sklearn.model_selection import train_test_split\n",
        "from sklearn.metrics import mean_squared_error"
      ]
    },
    {
      "cell_type": "code",
      "source": [
        "data = pd.read_csv(\"train.csv\")\n",
        "X = data.drop(\"SalePrice\", axis = 1)\n",
        "y = data.loc[:, \"SalePrice\"]\n",
        "X_train, X_test, y_train, y_test = train_test_split(X,y,test_size = 0.3)"
      ],
      "metadata": {
        "id": "sPvBUKgyI3Ul"
      },
      "execution_count": 7,
      "outputs": []
    },
    {
      "cell_type": "code",
      "source": [
        "linear_reg = LinearRegression()\n",
        "ridge_reg = Ridge(alpha=0.05)\n",
        "linear_reg.fit(X_train, y_train)\n",
        "ridge_reg.fit(X_train, y_train)\n",
        "\n",
        "linear_pred = linear_reg.predict(X_test)\n",
        "ridge_pred = ridge_reg.predict(X_test)"
      ],
      "metadata": {
        "id": "PoTGfevMJaok"
      },
      "execution_count": 9,
      "outputs": []
    },
    {
      "cell_type": "code",
      "source": [
        "linear_mse = mean_squared_error(y_test, linear_pred)\n",
        "ridge_mse = mean_squared_error(y_test, ridge_pred)\n",
        "\n",
        "print(f\"MSE without Ridge: {linear_mse}\")\n",
        "print(f\"MSE with Ridge: {ridge_mse}\")\n",
        "\n",
        "#lower MSE value means better model"
      ],
      "metadata": {
        "colab": {
          "base_uri": "https://localhost:8080/"
        },
        "id": "PGZFPU7yK9YV",
        "outputId": "2c501fa8-7f4d-455f-ebb6-a1ae4ac662cd"
      },
      "execution_count": 12,
      "outputs": [
        {
          "output_type": "stream",
          "name": "stdout",
          "text": [
            "MSE without Ridge: 3401528269.9091597\n",
            "MSE with Ridge: 3401585818.047305\n"
          ]
        }
      ]
    }
  ]
}